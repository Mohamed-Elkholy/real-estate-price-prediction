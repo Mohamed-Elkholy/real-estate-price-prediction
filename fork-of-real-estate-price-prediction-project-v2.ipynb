{
 "cells": [
  {
   "cell_type": "code",
   "execution_count": 1,
   "id": "80fb8db8",
   "metadata": {
    "_cell_guid": "b1076dfc-b9ad-4769-8c92-a6c4dae69d19",
    "_uuid": "8f2839f25d086af736a60e9eeb907d3b93b6e0e5",
    "execution": {
     "iopub.execute_input": "2023-12-18T01:08:04.195526Z",
     "iopub.status.busy": "2023-12-18T01:08:04.195046Z",
     "iopub.status.idle": "2023-12-18T01:08:05.984576Z",
     "shell.execute_reply": "2023-12-18T01:08:05.983321Z"
    },
    "papermill": {
     "duration": 1.805383,
     "end_time": "2023-12-18T01:08:05.987372",
     "exception": false,
     "start_time": "2023-12-18T01:08:04.181989",
     "status": "completed"
    },
    "tags": []
   },
   "outputs": [],
   "source": [
    "import pandas as pd\n",
    "import numpy as np\n",
    "from matplotlib import pyplot as plt\n",
    "import seaborn as sns\n",
    "%matplotlib inline\n"
   ]
  },
  {
   "cell_type": "markdown",
   "id": "b4657ba5",
   "metadata": {
    "papermill": {
     "duration": 0.010477,
     "end_time": "2023-12-18T01:08:06.008860",
     "exception": false,
     "start_time": "2023-12-18T01:08:05.998383",
     "status": "completed"
    },
    "tags": []
   },
   "source": [
    "#  Load the dataset"
   ]
  },
  {
   "cell_type": "code",
   "execution_count": 2,
   "id": "3afb74c1",
   "metadata": {
    "execution": {
     "iopub.execute_input": "2023-12-18T01:08:06.032257Z",
     "iopub.status.busy": "2023-12-18T01:08:06.031674Z",
     "iopub.status.idle": "2023-12-18T01:08:06.131426Z",
     "shell.execute_reply": "2023-12-18T01:08:06.130303Z"
    },
    "papermill": {
     "duration": 0.114241,
     "end_time": "2023-12-18T01:08:06.133866",
     "exception": false,
     "start_time": "2023-12-18T01:08:06.019625",
     "status": "completed"
    },
    "tags": []
   },
   "outputs": [
    {
     "data": {
      "text/html": [
       "<div>\n",
       "<style scoped>\n",
       "    .dataframe tbody tr th:only-of-type {\n",
       "        vertical-align: middle;\n",
       "    }\n",
       "\n",
       "    .dataframe tbody tr th {\n",
       "        vertical-align: top;\n",
       "    }\n",
       "\n",
       "    .dataframe thead th {\n",
       "        text-align: right;\n",
       "    }\n",
       "</style>\n",
       "<table border=\"1\" class=\"dataframe\">\n",
       "  <thead>\n",
       "    <tr style=\"text-align: right;\">\n",
       "      <th></th>\n",
       "      <th>longitude</th>\n",
       "      <th>latitude</th>\n",
       "      <th>housing_median_age</th>\n",
       "      <th>total_rooms</th>\n",
       "      <th>total_bedrooms</th>\n",
       "      <th>population</th>\n",
       "      <th>households</th>\n",
       "      <th>median_income</th>\n",
       "      <th>median_house_value</th>\n",
       "      <th>ocean_proximity</th>\n",
       "    </tr>\n",
       "  </thead>\n",
       "  <tbody>\n",
       "    <tr>\n",
       "      <th>0</th>\n",
       "      <td>-122.23</td>\n",
       "      <td>37.88</td>\n",
       "      <td>41.0</td>\n",
       "      <td>880.0</td>\n",
       "      <td>129.0</td>\n",
       "      <td>322.0</td>\n",
       "      <td>126.0</td>\n",
       "      <td>8.3252</td>\n",
       "      <td>452600.0</td>\n",
       "      <td>NEAR BAY</td>\n",
       "    </tr>\n",
       "    <tr>\n",
       "      <th>1</th>\n",
       "      <td>-122.22</td>\n",
       "      <td>37.86</td>\n",
       "      <td>21.0</td>\n",
       "      <td>7099.0</td>\n",
       "      <td>1106.0</td>\n",
       "      <td>2401.0</td>\n",
       "      <td>1138.0</td>\n",
       "      <td>8.3014</td>\n",
       "      <td>358500.0</td>\n",
       "      <td>NEAR BAY</td>\n",
       "    </tr>\n",
       "    <tr>\n",
       "      <th>2</th>\n",
       "      <td>-122.24</td>\n",
       "      <td>37.85</td>\n",
       "      <td>52.0</td>\n",
       "      <td>1467.0</td>\n",
       "      <td>190.0</td>\n",
       "      <td>496.0</td>\n",
       "      <td>177.0</td>\n",
       "      <td>7.2574</td>\n",
       "      <td>352100.0</td>\n",
       "      <td>NEAR BAY</td>\n",
       "    </tr>\n",
       "    <tr>\n",
       "      <th>3</th>\n",
       "      <td>-122.25</td>\n",
       "      <td>37.85</td>\n",
       "      <td>52.0</td>\n",
       "      <td>1274.0</td>\n",
       "      <td>235.0</td>\n",
       "      <td>558.0</td>\n",
       "      <td>219.0</td>\n",
       "      <td>5.6431</td>\n",
       "      <td>341300.0</td>\n",
       "      <td>NEAR BAY</td>\n",
       "    </tr>\n",
       "    <tr>\n",
       "      <th>4</th>\n",
       "      <td>-122.25</td>\n",
       "      <td>37.85</td>\n",
       "      <td>52.0</td>\n",
       "      <td>1627.0</td>\n",
       "      <td>280.0</td>\n",
       "      <td>565.0</td>\n",
       "      <td>259.0</td>\n",
       "      <td>3.8462</td>\n",
       "      <td>342200.0</td>\n",
       "      <td>NEAR BAY</td>\n",
       "    </tr>\n",
       "  </tbody>\n",
       "</table>\n",
       "</div>"
      ],
      "text/plain": [
       "   longitude  latitude  housing_median_age  total_rooms  total_bedrooms  \\\n",
       "0    -122.23     37.88                41.0        880.0           129.0   \n",
       "1    -122.22     37.86                21.0       7099.0          1106.0   \n",
       "2    -122.24     37.85                52.0       1467.0           190.0   \n",
       "3    -122.25     37.85                52.0       1274.0           235.0   \n",
       "4    -122.25     37.85                52.0       1627.0           280.0   \n",
       "\n",
       "   population  households  median_income  median_house_value ocean_proximity  \n",
       "0       322.0       126.0         8.3252            452600.0        NEAR BAY  \n",
       "1      2401.0      1138.0         8.3014            358500.0        NEAR BAY  \n",
       "2       496.0       177.0         7.2574            352100.0        NEAR BAY  \n",
       "3       558.0       219.0         5.6431            341300.0        NEAR BAY  \n",
       "4       565.0       259.0         3.8462            342200.0        NEAR BAY  "
      ]
     },
     "execution_count": 2,
     "metadata": {},
     "output_type": "execute_result"
    }
   ],
   "source": [
    "data = pd.read_csv(\"/kaggle/input/california-housing-prices/housing.csv\")\n",
    "data.head()"
   ]
  },
  {
   "cell_type": "code",
   "execution_count": 3,
   "id": "d5e9a25b",
   "metadata": {
    "execution": {
     "iopub.execute_input": "2023-12-18T01:08:06.158076Z",
     "iopub.status.busy": "2023-12-18T01:08:06.157694Z",
     "iopub.status.idle": "2023-12-18T01:08:06.170748Z",
     "shell.execute_reply": "2023-12-18T01:08:06.169390Z"
    },
    "papermill": {
     "duration": 0.027827,
     "end_time": "2023-12-18T01:08:06.173010",
     "exception": false,
     "start_time": "2023-12-18T01:08:06.145183",
     "status": "completed"
    },
    "tags": []
   },
   "outputs": [
    {
     "name": "stdout",
     "output_type": "stream",
     "text": [
      "   longitude  latitude  housing_median_age  total_rooms  total_bedrooms  \\\n",
      "0    -122.23     37.88                41.0        880.0           129.0   \n",
      "1    -122.22     37.86                21.0       7099.0          1106.0   \n",
      "2    -122.24     37.85                52.0       1467.0           190.0   \n",
      "3    -122.25     37.85                52.0       1274.0           235.0   \n",
      "4    -122.25     37.85                52.0       1627.0           280.0   \n",
      "\n",
      "   population  households  median_income  median_house_value ocean_proximity  \n",
      "0       322.0       126.0         8.3252            452600.0        NEAR BAY  \n",
      "1      2401.0      1138.0         8.3014            358500.0        NEAR BAY  \n",
      "2       496.0       177.0         7.2574            352100.0        NEAR BAY  \n",
      "3       558.0       219.0         5.6431            341300.0        NEAR BAY  \n",
      "4       565.0       259.0         3.8462            342200.0        NEAR BAY  \n"
     ]
    }
   ],
   "source": [
    "#   Display the first few rows of the dataset\n",
    "print(data.head())"
   ]
  },
  {
   "cell_type": "code",
   "execution_count": 4,
   "id": "047dec68",
   "metadata": {
    "execution": {
     "iopub.execute_input": "2023-12-18T01:08:06.197247Z",
     "iopub.status.busy": "2023-12-18T01:08:06.196844Z",
     "iopub.status.idle": "2023-12-18T01:08:06.320356Z",
     "shell.execute_reply": "2023-12-18T01:08:06.319164Z"
    },
    "papermill": {
     "duration": 0.138919,
     "end_time": "2023-12-18T01:08:06.323174",
     "exception": false,
     "start_time": "2023-12-18T01:08:06.184255",
     "status": "completed"
    },
    "tags": []
   },
   "outputs": [
    {
     "name": "stdout",
     "output_type": "stream",
     "text": [
      "          longitude      latitude  housing_median_age   total_rooms  \\\n",
      "count  20640.000000  20640.000000        20640.000000  20640.000000   \n",
      "mean    -119.569704     35.631861           28.639486   2635.763081   \n",
      "std        2.003532      2.135952           12.585558   2181.615252   \n",
      "min     -124.350000     32.540000            1.000000      2.000000   \n",
      "25%     -121.800000     33.930000           18.000000   1447.750000   \n",
      "50%     -118.490000     34.260000           29.000000   2127.000000   \n",
      "75%     -118.010000     37.710000           37.000000   3148.000000   \n",
      "max     -114.310000     41.950000           52.000000  39320.000000   \n",
      "\n",
      "       total_bedrooms    population    households  median_income  \\\n",
      "count    20433.000000  20640.000000  20640.000000   20640.000000   \n",
      "mean       537.870553   1425.476744    499.539680       3.870671   \n",
      "std        421.385070   1132.462122    382.329753       1.899822   \n",
      "min          1.000000      3.000000      1.000000       0.499900   \n",
      "25%        296.000000    787.000000    280.000000       2.563400   \n",
      "50%        435.000000   1166.000000    409.000000       3.534800   \n",
      "75%        647.000000   1725.000000    605.000000       4.743250   \n",
      "max       6445.000000  35682.000000   6082.000000      15.000100   \n",
      "\n",
      "       median_house_value  \n",
      "count        20640.000000  \n",
      "mean        206855.816909  \n",
      "std         115395.615874  \n",
      "min          14999.000000  \n",
      "25%         119600.000000  \n",
      "50%         179700.000000  \n",
      "75%         264725.000000  \n",
      "max         500001.000000  \n"
     ]
    }
   ],
   "source": [
    "#Data exploration\n",
    "print(data.describe())"
   ]
  },
  {
   "cell_type": "markdown",
   "id": "dd1ee18b",
   "metadata": {
    "papermill": {
     "duration": 0.011206,
     "end_time": "2023-12-18T01:08:06.346273",
     "exception": false,
     "start_time": "2023-12-18T01:08:06.335067",
     "status": "completed"
    },
    "tags": []
   },
   "source": [
    "# **Check if there is a null values**"
   ]
  },
  {
   "cell_type": "markdown",
   "id": "18e9ae80",
   "metadata": {
    "papermill": {
     "duration": 0.010964,
     "end_time": "2023-12-18T01:08:06.368474",
     "exception": false,
     "start_time": "2023-12-18T01:08:06.357510",
     "status": "completed"
    },
    "tags": []
   },
   "source": [
    "# Handling Missing Values\n",
    "Three ways :\n",
    "1. Remove corresponding rows\n",
    "1. Remove the column\n",
    "1. Inputation : replace the missing value with some value like mean , median,mode of attribute."
   ]
  },
  {
   "cell_type": "code",
   "execution_count": 5,
   "id": "98e058e4",
   "metadata": {
    "execution": {
     "iopub.execute_input": "2023-12-18T01:08:06.392744Z",
     "iopub.status.busy": "2023-12-18T01:08:06.392376Z",
     "iopub.status.idle": "2023-12-18T01:08:06.402583Z",
     "shell.execute_reply": "2023-12-18T01:08:06.401362Z"
    },
    "papermill": {
     "duration": 0.025276,
     "end_time": "2023-12-18T01:08:06.404971",
     "exception": false,
     "start_time": "2023-12-18T01:08:06.379695",
     "status": "completed"
    },
    "tags": []
   },
   "outputs": [
    {
     "data": {
      "text/plain": [
       "True"
      ]
     },
     "execution_count": 5,
     "metadata": {},
     "output_type": "execute_result"
    }
   ],
   "source": [
    "data.isnull().values.any()"
   ]
  },
  {
   "cell_type": "code",
   "execution_count": 6,
   "id": "b0554639",
   "metadata": {
    "execution": {
     "iopub.execute_input": "2023-12-18T01:08:06.429659Z",
     "iopub.status.busy": "2023-12-18T01:08:06.429242Z",
     "iopub.status.idle": "2023-12-18T01:08:06.436129Z",
     "shell.execute_reply": "2023-12-18T01:08:06.435061Z"
    },
    "papermill": {
     "duration": 0.022203,
     "end_time": "2023-12-18T01:08:06.438512",
     "exception": false,
     "start_time": "2023-12-18T01:08:06.416309",
     "status": "completed"
    },
    "tags": []
   },
   "outputs": [
    {
     "data": {
      "text/plain": [
       "Index(['longitude', 'latitude', 'housing_median_age', 'total_rooms',\n",
       "       'total_bedrooms', 'population', 'households', 'median_income',\n",
       "       'median_house_value', 'ocean_proximity'],\n",
       "      dtype='object')"
      ]
     },
     "execution_count": 6,
     "metadata": {},
     "output_type": "execute_result"
    }
   ],
   "source": [
    "data.columns"
   ]
  },
  {
   "cell_type": "code",
   "execution_count": 7,
   "id": "53b3ad75",
   "metadata": {
    "execution": {
     "iopub.execute_input": "2023-12-18T01:08:06.463832Z",
     "iopub.status.busy": "2023-12-18T01:08:06.463455Z",
     "iopub.status.idle": "2023-12-18T01:08:06.475186Z",
     "shell.execute_reply": "2023-12-18T01:08:06.473894Z"
    },
    "papermill": {
     "duration": 0.02771,
     "end_time": "2023-12-18T01:08:06.477828",
     "exception": false,
     "start_time": "2023-12-18T01:08:06.450118",
     "status": "completed"
    },
    "tags": []
   },
   "outputs": [
    {
     "data": {
      "text/plain": [
       "longitude               0\n",
       "latitude                0\n",
       "housing_median_age      0\n",
       "total_rooms             0\n",
       "total_bedrooms        207\n",
       "population              0\n",
       "households              0\n",
       "median_income           0\n",
       "median_house_value      0\n",
       "ocean_proximity         0\n",
       "dtype: int64"
      ]
     },
     "execution_count": 7,
     "metadata": {},
     "output_type": "execute_result"
    }
   ],
   "source": [
    "data.isnull().sum()"
   ]
  },
  {
   "cell_type": "markdown",
   "id": "6765253a",
   "metadata": {
    "papermill": {
     "duration": 0.011587,
     "end_time": "2023-12-18T01:08:06.501507",
     "exception": false,
     "start_time": "2023-12-18T01:08:06.489920",
     "status": "completed"
    },
    "tags": []
   },
   "source": [
    "# 3- Figure out why the data is missing\n",
    "**The total number of bedrooms has an empty value.****"
   ]
  },
  {
   "cell_type": "code",
   "execution_count": 8,
   "id": "679d81b1",
   "metadata": {
    "execution": {
     "iopub.execute_input": "2023-12-18T01:08:06.527578Z",
     "iopub.status.busy": "2023-12-18T01:08:06.527062Z",
     "iopub.status.idle": "2023-12-18T01:08:06.534739Z",
     "shell.execute_reply": "2023-12-18T01:08:06.533672Z"
    },
    "papermill": {
     "duration": 0.024119,
     "end_time": "2023-12-18T01:08:06.537302",
     "exception": false,
     "start_time": "2023-12-18T01:08:06.513183",
     "status": "completed"
    },
    "tags": []
   },
   "outputs": [
    {
     "data": {
      "text/plain": [
       "True"
      ]
     },
     "execution_count": 8,
     "metadata": {},
     "output_type": "execute_result"
    }
   ],
   "source": [
    "data.total_bedrooms.isnull().any()"
   ]
  },
  {
   "cell_type": "markdown",
   "id": "d9a3fa43",
   "metadata": {
    "papermill": {
     "duration": 0.011706,
     "end_time": "2023-12-18T01:08:06.561015",
     "exception": false,
     "start_time": "2023-12-18T01:08:06.549309",
     "status": "completed"
    },
    "tags": []
   },
   "source": [
    "# Eliminating all extra variables."
   ]
  },
  {
   "cell_type": "code",
   "execution_count": 9,
   "id": "3031c4e5",
   "metadata": {
    "execution": {
     "iopub.execute_input": "2023-12-18T01:08:06.589250Z",
     "iopub.status.busy": "2023-12-18T01:08:06.588887Z",
     "iopub.status.idle": "2023-12-18T01:08:06.602297Z",
     "shell.execute_reply": "2023-12-18T01:08:06.601425Z"
    },
    "papermill": {
     "duration": 0.031424,
     "end_time": "2023-12-18T01:08:06.604645",
     "exception": false,
     "start_time": "2023-12-18T01:08:06.573221",
     "status": "completed"
    },
    "tags": []
   },
   "outputs": [
    {
     "data": {
      "text/plain": [
       "(20433, 10)"
      ]
     },
     "execution_count": 9,
     "metadata": {},
     "output_type": "execute_result"
    }
   ],
   "source": [
    "#Handling missing values (if any)\n",
    "data.dropna(inplace = True)\n",
    "data.shape\n"
   ]
  },
  {
   "cell_type": "code",
   "execution_count": 10,
   "id": "58200807",
   "metadata": {
    "execution": {
     "iopub.execute_input": "2023-12-18T01:08:06.631993Z",
     "iopub.status.busy": "2023-12-18T01:08:06.631567Z",
     "iopub.status.idle": "2023-12-18T01:08:06.658111Z",
     "shell.execute_reply": "2023-12-18T01:08:06.657027Z"
    },
    "papermill": {
     "duration": 0.042615,
     "end_time": "2023-12-18T01:08:06.660657",
     "exception": false,
     "start_time": "2023-12-18T01:08:06.618042",
     "status": "completed"
    },
    "tags": []
   },
   "outputs": [
    {
     "data": {
      "text/html": [
       "<div>\n",
       "<style scoped>\n",
       "    .dataframe tbody tr th:only-of-type {\n",
       "        vertical-align: middle;\n",
       "    }\n",
       "\n",
       "    .dataframe tbody tr th {\n",
       "        vertical-align: top;\n",
       "    }\n",
       "\n",
       "    .dataframe thead th {\n",
       "        text-align: right;\n",
       "    }\n",
       "</style>\n",
       "<table border=\"1\" class=\"dataframe\">\n",
       "  <thead>\n",
       "    <tr style=\"text-align: right;\">\n",
       "      <th></th>\n",
       "      <th>longitude</th>\n",
       "      <th>latitude</th>\n",
       "      <th>housing_median_age</th>\n",
       "      <th>total_rooms</th>\n",
       "      <th>total_bedrooms</th>\n",
       "      <th>population</th>\n",
       "      <th>households</th>\n",
       "      <th>median_income</th>\n",
       "      <th>median_house_value</th>\n",
       "      <th>ocean_proximity</th>\n",
       "    </tr>\n",
       "  </thead>\n",
       "  <tbody>\n",
       "    <tr>\n",
       "      <th>0</th>\n",
       "      <td>-122.23</td>\n",
       "      <td>37.88</td>\n",
       "      <td>41.0</td>\n",
       "      <td>880.0</td>\n",
       "      <td>129.0</td>\n",
       "      <td>322.0</td>\n",
       "      <td>126.0</td>\n",
       "      <td>8.3252</td>\n",
       "      <td>452600.0</td>\n",
       "      <td>NEAR BAY</td>\n",
       "    </tr>\n",
       "    <tr>\n",
       "      <th>1</th>\n",
       "      <td>-122.22</td>\n",
       "      <td>37.86</td>\n",
       "      <td>21.0</td>\n",
       "      <td>7099.0</td>\n",
       "      <td>1106.0</td>\n",
       "      <td>2401.0</td>\n",
       "      <td>1138.0</td>\n",
       "      <td>8.3014</td>\n",
       "      <td>358500.0</td>\n",
       "      <td>NEAR BAY</td>\n",
       "    </tr>\n",
       "    <tr>\n",
       "      <th>2</th>\n",
       "      <td>-122.24</td>\n",
       "      <td>37.85</td>\n",
       "      <td>52.0</td>\n",
       "      <td>1467.0</td>\n",
       "      <td>190.0</td>\n",
       "      <td>496.0</td>\n",
       "      <td>177.0</td>\n",
       "      <td>7.2574</td>\n",
       "      <td>352100.0</td>\n",
       "      <td>NEAR BAY</td>\n",
       "    </tr>\n",
       "    <tr>\n",
       "      <th>3</th>\n",
       "      <td>-122.25</td>\n",
       "      <td>37.85</td>\n",
       "      <td>52.0</td>\n",
       "      <td>1274.0</td>\n",
       "      <td>235.0</td>\n",
       "      <td>558.0</td>\n",
       "      <td>219.0</td>\n",
       "      <td>5.6431</td>\n",
       "      <td>341300.0</td>\n",
       "      <td>NEAR BAY</td>\n",
       "    </tr>\n",
       "    <tr>\n",
       "      <th>4</th>\n",
       "      <td>-122.25</td>\n",
       "      <td>37.85</td>\n",
       "      <td>52.0</td>\n",
       "      <td>1627.0</td>\n",
       "      <td>280.0</td>\n",
       "      <td>565.0</td>\n",
       "      <td>259.0</td>\n",
       "      <td>3.8462</td>\n",
       "      <td>342200.0</td>\n",
       "      <td>NEAR BAY</td>\n",
       "    </tr>\n",
       "  </tbody>\n",
       "</table>\n",
       "</div>"
      ],
      "text/plain": [
       "   longitude  latitude  housing_median_age  total_rooms  total_bedrooms  \\\n",
       "0    -122.23     37.88                41.0        880.0           129.0   \n",
       "1    -122.22     37.86                21.0       7099.0          1106.0   \n",
       "2    -122.24     37.85                52.0       1467.0           190.0   \n",
       "3    -122.25     37.85                52.0       1274.0           235.0   \n",
       "4    -122.25     37.85                52.0       1627.0           280.0   \n",
       "\n",
       "   population  households  median_income  median_house_value ocean_proximity  \n",
       "0       322.0       126.0         8.3252            452600.0        NEAR BAY  \n",
       "1      2401.0      1138.0         8.3014            358500.0        NEAR BAY  \n",
       "2       496.0       177.0         7.2574            352100.0        NEAR BAY  \n",
       "3       558.0       219.0         5.6431            341300.0        NEAR BAY  \n",
       "4       565.0       259.0         3.8462            342200.0        NEAR BAY  "
      ]
     },
     "execution_count": 10,
     "metadata": {},
     "output_type": "execute_result"
    }
   ],
   "source": [
    "# remove all columns with at least one missing value\n",
    "columns_with_na_dropped = data.dropna(axis=1)\n",
    "columns_with_na_dropped.head()\n",
    "\n"
   ]
  },
  {
   "cell_type": "code",
   "execution_count": 11,
   "id": "2df316c8",
   "metadata": {
    "execution": {
     "iopub.execute_input": "2023-12-18T01:08:06.687290Z",
     "iopub.status.busy": "2023-12-18T01:08:06.686898Z",
     "iopub.status.idle": "2023-12-18T01:08:06.708113Z",
     "shell.execute_reply": "2023-12-18T01:08:06.707030Z"
    },
    "papermill": {
     "duration": 0.037434,
     "end_time": "2023-12-18T01:08:06.710428",
     "exception": false,
     "start_time": "2023-12-18T01:08:06.672994",
     "status": "completed"
    },
    "tags": []
   },
   "outputs": [
    {
     "data": {
      "text/html": [
       "<div>\n",
       "<style scoped>\n",
       "    .dataframe tbody tr th:only-of-type {\n",
       "        vertical-align: middle;\n",
       "    }\n",
       "\n",
       "    .dataframe tbody tr th {\n",
       "        vertical-align: top;\n",
       "    }\n",
       "\n",
       "    .dataframe thead th {\n",
       "        text-align: right;\n",
       "    }\n",
       "</style>\n",
       "<table border=\"1\" class=\"dataframe\">\n",
       "  <thead>\n",
       "    <tr style=\"text-align: right;\">\n",
       "      <th></th>\n",
       "      <th>longitude</th>\n",
       "      <th>latitude</th>\n",
       "      <th>housing_median_age</th>\n",
       "      <th>total_rooms</th>\n",
       "      <th>total_bedrooms</th>\n",
       "      <th>population</th>\n",
       "      <th>households</th>\n",
       "      <th>median_income</th>\n",
       "      <th>median_house_value</th>\n",
       "      <th>ocean_proximity</th>\n",
       "    </tr>\n",
       "  </thead>\n",
       "  <tbody>\n",
       "    <tr>\n",
       "      <th>20635</th>\n",
       "      <td>-121.09</td>\n",
       "      <td>39.48</td>\n",
       "      <td>25.0</td>\n",
       "      <td>1665.0</td>\n",
       "      <td>374.0</td>\n",
       "      <td>845.0</td>\n",
       "      <td>330.0</td>\n",
       "      <td>1.5603</td>\n",
       "      <td>78100.0</td>\n",
       "      <td>INLAND</td>\n",
       "    </tr>\n",
       "    <tr>\n",
       "      <th>20636</th>\n",
       "      <td>-121.21</td>\n",
       "      <td>39.49</td>\n",
       "      <td>18.0</td>\n",
       "      <td>697.0</td>\n",
       "      <td>150.0</td>\n",
       "      <td>356.0</td>\n",
       "      <td>114.0</td>\n",
       "      <td>2.5568</td>\n",
       "      <td>77100.0</td>\n",
       "      <td>INLAND</td>\n",
       "    </tr>\n",
       "    <tr>\n",
       "      <th>20637</th>\n",
       "      <td>-121.22</td>\n",
       "      <td>39.43</td>\n",
       "      <td>17.0</td>\n",
       "      <td>2254.0</td>\n",
       "      <td>485.0</td>\n",
       "      <td>1007.0</td>\n",
       "      <td>433.0</td>\n",
       "      <td>1.7000</td>\n",
       "      <td>92300.0</td>\n",
       "      <td>INLAND</td>\n",
       "    </tr>\n",
       "    <tr>\n",
       "      <th>20638</th>\n",
       "      <td>-121.32</td>\n",
       "      <td>39.43</td>\n",
       "      <td>18.0</td>\n",
       "      <td>1860.0</td>\n",
       "      <td>409.0</td>\n",
       "      <td>741.0</td>\n",
       "      <td>349.0</td>\n",
       "      <td>1.8672</td>\n",
       "      <td>84700.0</td>\n",
       "      <td>INLAND</td>\n",
       "    </tr>\n",
       "    <tr>\n",
       "      <th>20639</th>\n",
       "      <td>-121.24</td>\n",
       "      <td>39.37</td>\n",
       "      <td>16.0</td>\n",
       "      <td>2785.0</td>\n",
       "      <td>616.0</td>\n",
       "      <td>1387.0</td>\n",
       "      <td>530.0</td>\n",
       "      <td>2.3886</td>\n",
       "      <td>89400.0</td>\n",
       "      <td>INLAND</td>\n",
       "    </tr>\n",
       "  </tbody>\n",
       "</table>\n",
       "</div>"
      ],
      "text/plain": [
       "       longitude  latitude  housing_median_age  total_rooms  total_bedrooms  \\\n",
       "20635    -121.09     39.48                25.0       1665.0           374.0   \n",
       "20636    -121.21     39.49                18.0        697.0           150.0   \n",
       "20637    -121.22     39.43                17.0       2254.0           485.0   \n",
       "20638    -121.32     39.43                18.0       1860.0           409.0   \n",
       "20639    -121.24     39.37                16.0       2785.0           616.0   \n",
       "\n",
       "       population  households  median_income  median_house_value  \\\n",
       "20635       845.0       330.0         1.5603             78100.0   \n",
       "20636       356.0       114.0         2.5568             77100.0   \n",
       "20637      1007.0       433.0         1.7000             92300.0   \n",
       "20638       741.0       349.0         1.8672             84700.0   \n",
       "20639      1387.0       530.0         2.3886             89400.0   \n",
       "\n",
       "      ocean_proximity  \n",
       "20635          INLAND  \n",
       "20636          INLAND  \n",
       "20637          INLAND  \n",
       "20638          INLAND  \n",
       "20639          INLAND  "
      ]
     },
     "execution_count": 11,
     "metadata": {},
     "output_type": "execute_result"
    }
   ],
   "source": [
    "columns_with_na_dropped.tail()"
   ]
  },
  {
   "cell_type": "code",
   "execution_count": 12,
   "id": "701214ee",
   "metadata": {
    "execution": {
     "iopub.execute_input": "2023-12-18T01:08:06.738507Z",
     "iopub.status.busy": "2023-12-18T01:08:06.738095Z",
     "iopub.status.idle": "2023-12-18T01:08:06.743795Z",
     "shell.execute_reply": "2023-12-18T01:08:06.742728Z"
    },
    "papermill": {
     "duration": 0.022638,
     "end_time": "2023-12-18T01:08:06.746280",
     "exception": false,
     "start_time": "2023-12-18T01:08:06.723642",
     "status": "completed"
    },
    "tags": []
   },
   "outputs": [
    {
     "name": "stdout",
     "output_type": "stream",
     "text": [
      "Columns in original dataset:  10\n",
      "Columns with na's dropped:  10\n"
     ]
    }
   ],
   "source": [
    "# just how much data did we lose?\n",
    "print(\"Columns in original dataset: \", data.shape[1])\n",
    "print(\"Columns with na's dropped: \" , columns_with_na_dropped.shape[1])"
   ]
  },
  {
   "cell_type": "code",
   "execution_count": 13,
   "id": "054a0fb5",
   "metadata": {
    "execution": {
     "iopub.execute_input": "2023-12-18T01:08:06.774459Z",
     "iopub.status.busy": "2023-12-18T01:08:06.774036Z",
     "iopub.status.idle": "2023-12-18T01:08:06.785277Z",
     "shell.execute_reply": "2023-12-18T01:08:06.784431Z"
    },
    "papermill": {
     "duration": 0.027669,
     "end_time": "2023-12-18T01:08:06.787355",
     "exception": false,
     "start_time": "2023-12-18T01:08:06.759686",
     "status": "completed"
    },
    "tags": []
   },
   "outputs": [
    {
     "data": {
      "text/plain": [
       "longitude             0\n",
       "latitude              0\n",
       "housing_median_age    0\n",
       "total_rooms           0\n",
       "total_bedrooms        0\n",
       "population            0\n",
       "households            0\n",
       "median_income         0\n",
       "median_house_value    0\n",
       "ocean_proximity       0\n",
       "dtype: int64"
      ]
     },
     "execution_count": 13,
     "metadata": {},
     "output_type": "execute_result"
    }
   ],
   "source": [
    "data.isnull().sum()"
   ]
  },
  {
   "cell_type": "code",
   "execution_count": 14,
   "id": "3fad43d9",
   "metadata": {
    "execution": {
     "iopub.execute_input": "2023-12-18T01:08:06.814787Z",
     "iopub.status.busy": "2023-12-18T01:08:06.814386Z",
     "iopub.status.idle": "2023-12-18T01:08:06.839781Z",
     "shell.execute_reply": "2023-12-18T01:08:06.838704Z"
    },
    "papermill": {
     "duration": 0.041743,
     "end_time": "2023-12-18T01:08:06.841975",
     "exception": false,
     "start_time": "2023-12-18T01:08:06.800232",
     "status": "completed"
    },
    "tags": []
   },
   "outputs": [
    {
     "name": "stdout",
     "output_type": "stream",
     "text": [
      "<class 'pandas.core.frame.DataFrame'>\n",
      "Index: 20433 entries, 0 to 20639\n",
      "Data columns (total 10 columns):\n",
      " #   Column              Non-Null Count  Dtype  \n",
      "---  ------              --------------  -----  \n",
      " 0   longitude           20433 non-null  float64\n",
      " 1   latitude            20433 non-null  float64\n",
      " 2   housing_median_age  20433 non-null  float64\n",
      " 3   total_rooms         20433 non-null  float64\n",
      " 4   total_bedrooms      20433 non-null  float64\n",
      " 5   population          20433 non-null  float64\n",
      " 6   households          20433 non-null  float64\n",
      " 7   median_income       20433 non-null  float64\n",
      " 8   median_house_value  20433 non-null  float64\n",
      " 9   ocean_proximity     20433 non-null  object \n",
      "dtypes: float64(9), object(1)\n",
      "memory usage: 1.7+ MB\n"
     ]
    }
   ],
   "source": [
    "data.info()"
   ]
  },
  {
   "cell_type": "code",
   "execution_count": 15,
   "id": "eff0cd85",
   "metadata": {
    "execution": {
     "iopub.execute_input": "2023-12-18T01:08:06.870673Z",
     "iopub.status.busy": "2023-12-18T01:08:06.870238Z",
     "iopub.status.idle": "2023-12-18T01:08:06.881835Z",
     "shell.execute_reply": "2023-12-18T01:08:06.880713Z"
    },
    "papermill": {
     "duration": 0.029135,
     "end_time": "2023-12-18T01:08:06.884159",
     "exception": false,
     "start_time": "2023-12-18T01:08:06.855024",
     "status": "completed"
    },
    "tags": []
   },
   "outputs": [
    {
     "data": {
      "text/plain": [
       "ocean_proximity\n",
       "<1H OCEAN     9034\n",
       "INLAND        6496\n",
       "NEAR OCEAN    2628\n",
       "NEAR BAY      2270\n",
       "ISLAND           5\n",
       "Name: count, dtype: int64"
      ]
     },
     "execution_count": 15,
     "metadata": {},
     "output_type": "execute_result"
    }
   ],
   "source": [
    "data.ocean_proximity.value_counts()"
   ]
  },
  {
   "cell_type": "code",
   "execution_count": 16,
   "id": "fb3a4f58",
   "metadata": {
    "execution": {
     "iopub.execute_input": "2023-12-18T01:08:06.912714Z",
     "iopub.status.busy": "2023-12-18T01:08:06.912300Z",
     "iopub.status.idle": "2023-12-18T01:08:06.922424Z",
     "shell.execute_reply": "2023-12-18T01:08:06.921416Z"
    },
    "papermill": {
     "duration": 0.027429,
     "end_time": "2023-12-18T01:08:06.924707",
     "exception": false,
     "start_time": "2023-12-18T01:08:06.897278",
     "status": "completed"
    },
    "tags": []
   },
   "outputs": [],
   "source": [
    "data.ocean_proximity = data.ocean_proximity.map({\"<1H OCEAN\":1,\"INLAND\":2,\"NEAR OCEAN\":3,\"NEAR BAY\":4,\"ISLAND\":5})"
   ]
  },
  {
   "cell_type": "code",
   "execution_count": 17,
   "id": "c79bae92",
   "metadata": {
    "execution": {
     "iopub.execute_input": "2023-12-18T01:08:06.953178Z",
     "iopub.status.busy": "2023-12-18T01:08:06.952809Z",
     "iopub.status.idle": "2023-12-18T01:08:06.973298Z",
     "shell.execute_reply": "2023-12-18T01:08:06.972201Z"
    },
    "papermill": {
     "duration": 0.037771,
     "end_time": "2023-12-18T01:08:06.975751",
     "exception": false,
     "start_time": "2023-12-18T01:08:06.937980",
     "status": "completed"
    },
    "tags": []
   },
   "outputs": [
    {
     "data": {
      "text/html": [
       "<div>\n",
       "<style scoped>\n",
       "    .dataframe tbody tr th:only-of-type {\n",
       "        vertical-align: middle;\n",
       "    }\n",
       "\n",
       "    .dataframe tbody tr th {\n",
       "        vertical-align: top;\n",
       "    }\n",
       "\n",
       "    .dataframe thead th {\n",
       "        text-align: right;\n",
       "    }\n",
       "</style>\n",
       "<table border=\"1\" class=\"dataframe\">\n",
       "  <thead>\n",
       "    <tr style=\"text-align: right;\">\n",
       "      <th></th>\n",
       "      <th>longitude</th>\n",
       "      <th>latitude</th>\n",
       "      <th>housing_median_age</th>\n",
       "      <th>total_rooms</th>\n",
       "      <th>total_bedrooms</th>\n",
       "      <th>population</th>\n",
       "      <th>households</th>\n",
       "      <th>median_income</th>\n",
       "      <th>median_house_value</th>\n",
       "      <th>ocean_proximity</th>\n",
       "    </tr>\n",
       "  </thead>\n",
       "  <tbody>\n",
       "    <tr>\n",
       "      <th>0</th>\n",
       "      <td>-122.23</td>\n",
       "      <td>37.88</td>\n",
       "      <td>41.0</td>\n",
       "      <td>880.0</td>\n",
       "      <td>129.0</td>\n",
       "      <td>322.0</td>\n",
       "      <td>126.0</td>\n",
       "      <td>8.3252</td>\n",
       "      <td>452600.0</td>\n",
       "      <td>4</td>\n",
       "    </tr>\n",
       "    <tr>\n",
       "      <th>1</th>\n",
       "      <td>-122.22</td>\n",
       "      <td>37.86</td>\n",
       "      <td>21.0</td>\n",
       "      <td>7099.0</td>\n",
       "      <td>1106.0</td>\n",
       "      <td>2401.0</td>\n",
       "      <td>1138.0</td>\n",
       "      <td>8.3014</td>\n",
       "      <td>358500.0</td>\n",
       "      <td>4</td>\n",
       "    </tr>\n",
       "    <tr>\n",
       "      <th>2</th>\n",
       "      <td>-122.24</td>\n",
       "      <td>37.85</td>\n",
       "      <td>52.0</td>\n",
       "      <td>1467.0</td>\n",
       "      <td>190.0</td>\n",
       "      <td>496.0</td>\n",
       "      <td>177.0</td>\n",
       "      <td>7.2574</td>\n",
       "      <td>352100.0</td>\n",
       "      <td>4</td>\n",
       "    </tr>\n",
       "    <tr>\n",
       "      <th>3</th>\n",
       "      <td>-122.25</td>\n",
       "      <td>37.85</td>\n",
       "      <td>52.0</td>\n",
       "      <td>1274.0</td>\n",
       "      <td>235.0</td>\n",
       "      <td>558.0</td>\n",
       "      <td>219.0</td>\n",
       "      <td>5.6431</td>\n",
       "      <td>341300.0</td>\n",
       "      <td>4</td>\n",
       "    </tr>\n",
       "    <tr>\n",
       "      <th>4</th>\n",
       "      <td>-122.25</td>\n",
       "      <td>37.85</td>\n",
       "      <td>52.0</td>\n",
       "      <td>1627.0</td>\n",
       "      <td>280.0</td>\n",
       "      <td>565.0</td>\n",
       "      <td>259.0</td>\n",
       "      <td>3.8462</td>\n",
       "      <td>342200.0</td>\n",
       "      <td>4</td>\n",
       "    </tr>\n",
       "  </tbody>\n",
       "</table>\n",
       "</div>"
      ],
      "text/plain": [
       "   longitude  latitude  housing_median_age  total_rooms  total_bedrooms  \\\n",
       "0    -122.23     37.88                41.0        880.0           129.0   \n",
       "1    -122.22     37.86                21.0       7099.0          1106.0   \n",
       "2    -122.24     37.85                52.0       1467.0           190.0   \n",
       "3    -122.25     37.85                52.0       1274.0           235.0   \n",
       "4    -122.25     37.85                52.0       1627.0           280.0   \n",
       "\n",
       "   population  households  median_income  median_house_value  ocean_proximity  \n",
       "0       322.0       126.0         8.3252            452600.0                4  \n",
       "1      2401.0      1138.0         8.3014            358500.0                4  \n",
       "2       496.0       177.0         7.2574            352100.0                4  \n",
       "3       558.0       219.0         5.6431            341300.0                4  \n",
       "4       565.0       259.0         3.8462            342200.0                4  "
      ]
     },
     "execution_count": 17,
     "metadata": {},
     "output_type": "execute_result"
    }
   ],
   "source": [
    "data.head()"
   ]
  },
  {
   "cell_type": "markdown",
   "id": "c3b6cf53",
   "metadata": {
    "papermill": {
     "duration": 0.013222,
     "end_time": "2023-12-18T01:08:07.002614",
     "exception": false,
     "start_time": "2023-12-18T01:08:06.989392",
     "status": "completed"
    },
    "tags": []
   },
   "source": [
    "# Data Exploration"
   ]
  },
  {
   "cell_type": "code",
   "execution_count": 18,
   "id": "d6aea490",
   "metadata": {
    "execution": {
     "iopub.execute_input": "2023-12-18T01:08:07.031310Z",
     "iopub.status.busy": "2023-12-18T01:08:07.030924Z",
     "iopub.status.idle": "2023-12-18T01:08:07.469098Z",
     "shell.execute_reply": "2023-12-18T01:08:07.467951Z"
    },
    "papermill": {
     "duration": 0.455444,
     "end_time": "2023-12-18T01:08:07.471608",
     "exception": false,
     "start_time": "2023-12-18T01:08:07.016164",
     "status": "completed"
    },
    "tags": []
   },
   "outputs": [
    {
     "data": {
      "text/plain": [
       "<Axes: xlabel='median_house_value', ylabel='Count'>"
      ]
     },
     "execution_count": 18,
     "metadata": {},
     "output_type": "execute_result"
    },
    {
     "data": {
      "image/png": "[encoded data removed]",
      "text/plain": [
       "<Figure size 640x480 with 1 Axes>"
      ]
     },
     "metadata": {},
     "output_type": "display_data"
    }
   ],
   "source": [
    "\n",
    "\n",
    "\n",
    "sns.histplot(data.median_house_value)"
   ]
  },
  {
   "cell_type": "code",
   "execution_count": 19,
   "id": "27c43f74",
   "metadata": {
    "execution": {
     "iopub.execute_input": "2023-12-18T01:08:07.561173Z",
     "iopub.status.busy": "2023-12-18T01:08:07.560799Z",
     "iopub.status.idle": "2023-12-18T01:08:09.869649Z",
     "shell.execute_reply": "2023-12-18T01:08:09.868478Z"
    },
    "papermill": {
     "duration": 2.386804,
     "end_time": "2023-12-18T01:08:09.872656",
     "exception": false,
     "start_time": "2023-12-18T01:08:07.485852",
     "status": "completed"
    },
    "tags": []
   },
   "outputs": [
    {
     "data": {
      "text/plain": [
       "array([[<Axes: title={'center': 'longitude'}>,\n",
       "        <Axes: title={'center': 'latitude'}>,\n",
       "        <Axes: title={'center': 'housing_median_age'}>],\n",
       "       [<Axes: title={'center': 'total_rooms'}>,\n",
       "        <Axes: title={'center': 'total_bedrooms'}>,\n",
       "        <Axes: title={'center': 'population'}>],\n",
       "       [<Axes: title={'center': 'households'}>,\n",
       "        <Axes: title={'center': 'median_income'}>,\n",
       "        <Axes: title={'center': 'median_house_value'}>],\n",
       "       [<Axes: title={'center': 'ocean_proximity'}>, <Axes: >, <Axes: >]],\n",
       "      dtype=object)"
      ]
     },
     "execution_count": 19,
     "metadata": {},
     "output_type": "execute_result"
    },
    {
     "data": {
      "image/png": "[encoded data removed]",
      "text/plain": [
       "<Figure size 1500x1000 with 12 Axes>"
      ]
     },
     "metadata": {},
     "output_type": "display_data"
    }
   ],
   "source": [
    "data.hist(figsize=(15,10))"
   ]
  },
  {
   "cell_type": "code",
   "execution_count": 20,
   "id": "2309ef38",
   "metadata": {
    "execution": {
     "iopub.execute_input": "2023-12-18T01:08:09.906872Z",
     "iopub.status.busy": "2023-12-18T01:08:09.906024Z",
     "iopub.status.idle": "2023-12-18T01:08:10.144847Z",
     "shell.execute_reply": "2023-12-18T01:08:10.143620Z"
    },
    "papermill": {
     "duration": 0.259474,
     "end_time": "2023-12-18T01:08:10.148111",
     "exception": false,
     "start_time": "2023-12-18T01:08:09.888637",
     "status": "completed"
    },
    "tags": []
   },
   "outputs": [
    {
     "data": {
      "image/png": "[encoded data removed]",
      "text/plain": [
       "<Figure size 1000x600 with 1 Axes>"
      ]
     },
     "metadata": {},
     "output_type": "display_data"
    }
   ],
   "source": [
    "# Boxplot of housing_median_age\n",
    "plt.figure(figsize=(10, 6))\n",
    "plt.boxplot(data['housing_median_age'], vert=False)\n",
    "plt.title('Boxplot of Housing Median Age')\n",
    "plt.xlabel('Housing Median Age')\n",
    "plt.show()"
   ]
  },
  {
   "cell_type": "code",
   "execution_count": 21,
   "id": "3828dff0",
   "metadata": {
    "execution": {
     "iopub.execute_input": "2023-12-18T01:08:10.182324Z",
     "iopub.status.busy": "2023-12-18T01:08:10.181819Z",
     "iopub.status.idle": "2023-12-18T01:08:10.400963Z",
     "shell.execute_reply": "2023-12-18T01:08:10.398154Z"
    },
    "papermill": {
     "duration": 0.24041,
     "end_time": "2023-12-18T01:08:10.404888",
     "exception": false,
     "start_time": "2023-12-18T01:08:10.164478",
     "status": "completed"
    },
    "tags": []
   },
   "outputs": [
    {
     "data": {
      "image/png": "[encoded data removed]",
      "text/plain": [
       "<Figure size 1000x600 with 1 Axes>"
      ]
     },
     "metadata": {},
     "output_type": "display_data"
    }
   ],
   "source": [
    "# Boxplot of housing_median_age\n",
    "plt.figure(figsize=(10, 6))\n",
    "plt.boxplot(data['latitude'], vert=False)\n",
    "plt.title('Boxplot of latitude')\n",
    "plt.xlabel('latitude')\n",
    "plt.show()"
   ]
  },
  {
   "cell_type": "code",
   "execution_count": 22,
   "id": "05ce057d",
   "metadata": {
    "execution": {
     "iopub.execute_input": "2023-12-18T01:08:10.443935Z",
     "iopub.status.busy": "2023-12-18T01:08:10.443536Z",
     "iopub.status.idle": "2023-12-18T01:08:10.682595Z",
     "shell.execute_reply": "2023-12-18T01:08:10.681435Z"
    },
    "papermill": {
     "duration": 0.259675,
     "end_time": "2023-12-18T01:08:10.685360",
     "exception": false,
     "start_time": "2023-12-18T01:08:10.425685",
     "status": "completed"
    },
    "tags": []
   },
   "outputs": [
    {
     "data": {
      "image/png": "[encoded data removed]",
      "text/plain": [
       "<Figure size 1000x600 with 1 Axes>"
      ]
     },
     "metadata": {},
     "output_type": "display_data"
    }
   ],
   "source": [
    "# Boxplot of housing_median_age\n",
    "plt.figure(figsize=(10, 6))\n",
    "plt.boxplot(data['longitude'], vert=False)\n",
    "plt.title('Boxplot of longitude')\n",
    "plt.xlabel('longitude')\n",
    "plt.show()\n"
   ]
  },
  {
   "cell_type": "code",
   "execution_count": 23,
   "id": "e05b6aae",
   "metadata": {
    "execution": {
     "iopub.execute_input": "2023-12-18T01:08:10.733046Z",
     "iopub.status.busy": "2023-12-18T01:08:10.732519Z",
     "iopub.status.idle": "2023-12-18T01:08:10.954569Z",
     "shell.execute_reply": "2023-12-18T01:08:10.953582Z"
    },
    "papermill": {
     "duration": 0.247128,
     "end_time": "2023-12-18T01:08:10.957779",
     "exception": false,
     "start_time": "2023-12-18T01:08:10.710651",
     "status": "completed"
    },
    "tags": []
   },
   "outputs": [
    {
     "data": {
      "image/png": "[encoded data removed]",
      "text/plain": [
       "<Figure size 1000x600 with 1 Axes>"
      ]
     },
     "metadata": {},
     "output_type": "display_data"
    }
   ],
   "source": [
    "# Boxplot of housing_median_age\n",
    "plt.figure(figsize=(10, 6))\n",
    "plt.boxplot(data['median_house_value'], vert=False)\n",
    "plt.title('Boxplot of median_house_value')\n",
    "plt.xlabel('median_house_value')\n",
    "plt.show()"
   ]
  },
  {
   "cell_type": "code",
   "execution_count": null,
   "id": "673fd732",
   "metadata": {
    "papermill": {
     "duration": 0.019912,
     "end_time": "2023-12-18T01:08:11.002935",
     "exception": false,
     "start_time": "2023-12-18T01:08:10.983023",
     "status": "completed"
    },
    "tags": []
   },
   "outputs": [],
   "source": []
  },
  {
   "cell_type": "code",
   "execution_count": 24,
   "id": "709a2bd8",
   "metadata": {
    "execution": {
     "iopub.execute_input": "2023-12-18T01:08:11.039915Z",
     "iopub.status.busy": "2023-12-18T01:08:11.039036Z",
     "iopub.status.idle": "2023-12-18T01:08:11.289065Z",
     "shell.execute_reply": "2023-12-18T01:08:11.288223Z"
    },
    "papermill": {
     "duration": 0.271926,
     "end_time": "2023-12-18T01:08:11.292122",
     "exception": false,
     "start_time": "2023-12-18T01:08:11.020196",
     "status": "completed"
    },
    "tags": []
   },
   "outputs": [
    {
     "data": {
      "text/plain": [
       "<Axes: >"
      ]
     },
     "execution_count": 24,
     "metadata": {},
     "output_type": "execute_result"
    },
    {
     "data": {
      "image/png": "[encoded data removed]",
      "text/plain": [
       "<Figure size 640x480 with 1 Axes>"
      ]
     },
     "metadata": {},
     "output_type": "display_data"
    }
   ],
   "source": [
    "# Box Plot\n",
    "import seaborn as sns\n",
    "sns.boxplot(data[['median_house_value']])\n"
   ]
  },
  {
   "cell_type": "code",
   "execution_count": 25,
   "id": "ca836436",
   "metadata": {
    "execution": {
     "iopub.execute_input": "2023-12-18T01:08:11.333690Z",
     "iopub.status.busy": "2023-12-18T01:08:11.332664Z",
     "iopub.status.idle": "2023-12-18T01:08:11.342617Z",
     "shell.execute_reply": "2023-12-18T01:08:11.341363Z"
    },
    "papermill": {
     "duration": 0.031567,
     "end_time": "2023-12-18T01:08:11.344959",
     "exception": false,
     "start_time": "2023-12-18T01:08:11.313392",
     "status": "completed"
    },
    "tags": []
   },
   "outputs": [
    {
     "name": "stdout",
     "output_type": "stream",
     "text": [
      "145200.0\n"
     ]
    }
   ],
   "source": [
    "# IQR\n",
    "Q1 = np.percentile(data['median_house_value'], 25, method='midpoint')\n",
    "Q3 = np.percentile(data['median_house_value'], 75, method='midpoint')\n",
    "IQR = Q3 - Q1\n",
    "print(IQR)"
   ]
  },
  {
   "cell_type": "code",
   "execution_count": 26,
   "id": "7f4253f0",
   "metadata": {
    "execution": {
     "iopub.execute_input": "2023-12-18T01:08:11.382462Z",
     "iopub.status.busy": "2023-12-18T01:08:11.381623Z",
     "iopub.status.idle": "2023-12-18T01:08:11.388067Z",
     "shell.execute_reply": "2023-12-18T01:08:11.386917Z"
    },
    "papermill": {
     "duration": 0.027896,
     "end_time": "2023-12-18T01:08:11.390584",
     "exception": false,
     "start_time": "2023-12-18T01:08:11.362688",
     "status": "completed"
    },
    "tags": []
   },
   "outputs": [
    {
     "name": "stdout",
     "output_type": "stream",
     "text": [
      "482500.0 -98300.0\n"
     ]
    }
   ],
   "source": [
    "upper = Q3 +1.5*IQR\n",
    "lower = Q1 - 1.5*IQR\n",
    "print(upper,lower)"
   ]
  },
  {
   "cell_type": "code",
   "execution_count": 27,
   "id": "dbba8d06",
   "metadata": {
    "execution": {
     "iopub.execute_input": "2023-12-18T01:08:11.428517Z",
     "iopub.status.busy": "2023-12-18T01:08:11.427745Z",
     "iopub.status.idle": "2023-12-18T01:08:11.436713Z",
     "shell.execute_reply": "2023-12-18T01:08:11.435737Z"
    },
    "papermill": {
     "duration": 0.03077,
     "end_time": "2023-12-18T01:08:11.439082",
     "exception": false,
     "start_time": "2023-12-18T01:08:11.408312",
     "status": "completed"
    },
    "tags": []
   },
   "outputs": [
    {
     "name": "stdout",
     "output_type": "stream",
     "text": [
      "upper Bound: 482500.0\n",
      "[   89   140   457 ... 20222 20231 20238]\n",
      "Lower Bound: -98300.0\n",
      "[]\n"
     ]
    }
   ],
   "source": [
    "# Above Upper bound\n",
    "upper=Q3+1.5*IQR\n",
    "upper_array=list(np.where(data['median_house_value']>=upper))\n",
    "print(\"upper Bound:\",upper)\n",
    "print(sum(upper_array))\n",
    "#Below Lower bound\n",
    "lower=Q1-1.5*IQR\n",
    "lower_array=list(np.where(data['median_house_value']<=lower))\n",
    "print(\"Lower Bound:\",lower)\n",
    "print(sum(lower_array))\n"
   ]
  },
  {
   "cell_type": "code",
   "execution_count": null,
   "id": "fe59394c",
   "metadata": {
    "papermill": {
     "duration": 0.0182,
     "end_time": "2023-12-18T01:08:11.475379",
     "exception": false,
     "start_time": "2023-12-18T01:08:11.457179",
     "status": "completed"
    },
    "tags": []
   },
   "outputs": [],
   "source": []
  },
  {
   "cell_type": "code",
   "execution_count": 28,
   "id": "a0b03ab5",
   "metadata": {
    "execution": {
     "iopub.execute_input": "2023-12-18T01:08:11.516553Z",
     "iopub.status.busy": "2023-12-18T01:08:11.515647Z",
     "iopub.status.idle": "2023-12-18T01:08:11.746550Z",
     "shell.execute_reply": "2023-12-18T01:08:11.745177Z"
    },
    "papermill": {
     "duration": 0.253096,
     "end_time": "2023-12-18T01:08:11.749143",
     "exception": false,
     "start_time": "2023-12-18T01:08:11.496047",
     "status": "completed"
    },
    "tags": []
   },
   "outputs": [
    {
     "data": {
      "text/plain": [
       "<Axes: >"
      ]
     },
     "execution_count": 28,
     "metadata": {},
     "output_type": "execute_result"
    },
    {
     "data": {
      "image/png": "[encoded data removed]",
      "text/plain": [
       "<Figure size 640x480 with 1 Axes>"
      ]
     },
     "metadata": {},
     "output_type": "display_data"
    }
   ],
   "source": [
    "sns.boxplot(data['total_bedrooms'])\n"
   ]
  }
 ],
 "metadata": {
  "kaggle": {
   "accelerator": "none",
   "dataSources": [
    {
     "datasetId": 5227,
     "sourceId": 7876,
     "sourceType": "datasetVersion"
    }
   ],
   "dockerImageVersionId": 30626,
   "isGpuEnabled": false,
   "isInternetEnabled": true,
   "language": "python",
   "sourceType": "notebook"
  },
  "kernelspec": {
   "display_name": "Python 3",
   "language": "python",
   "name": "python3"
  },
  "language_info": {
   "codemirror_mode": {
    "name": "ipython",
    "version": 3
   },
   "file_extension": ".py",
   "mimetype": "text/x-python",
   "name": "python",
   "nbconvert_exporter": "python",
   "pygments_lexer": "ipython3",
   "version": "3.10.12"
  },
  "papermill": {
   "default_parameters": {},
   "duration": 11.61772,
   "end_time": "2023-12-18T01:08:12.388965",
   "environment_variables": {},
   "exception": null,
   "input_path": "__notebook__.ipynb",
   "output_path": "__notebook__.ipynb",
   "parameters": {},
   "start_time": "2023-12-18T01:08:00.771245",
   "version": "2.4.0"
  }
 },
 "nbformat": 4,
 "nbformat_minor": 5
}
